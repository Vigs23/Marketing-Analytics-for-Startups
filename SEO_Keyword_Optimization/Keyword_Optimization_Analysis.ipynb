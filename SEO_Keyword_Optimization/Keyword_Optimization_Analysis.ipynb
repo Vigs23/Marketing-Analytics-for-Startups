{
 "cells": [
  {
   "cell_type": "markdown",
   "metadata": {},
   "source": [
    "# Keyword Analysis for SEO"
   ]
  },
  {
   "cell_type": "markdown",
   "metadata": {},
   "source": [
    "Search Engine Optimization (SEO) keywords are the keywords and phrases in your web content that make it possible for people to find your site via search engines. A website that is well optimized for search engines \"speaks the same language\" as its potential visitor base with keywords for SEO that help connect searchers to your site. Keywords are one of the main elements of SEO.\n",
    "Obtaining and using the right Keyword is one of the challenges when it comes to SEO,the below keyword Optimization analysis is based on the Keywords obtained from competitors' websites, the model ascertain useful Keywords that could help a website in Search Engine Optimization. By leveraging these keywords, businesses can use it for optimizing their website."
   ]
  },
  {
   "cell_type": "markdown",
   "metadata": {},
   "source": [
    "The model uses Keywords obtained for SEO applications such as SEMRUSH or Rank Tracker.\n",
    "the below model runs on multiple Keywords obtained from competitors websites using **SEMRUSH's Keyword Gap Tool.**"
   ]
  },
  {
   "cell_type": "markdown",
   "metadata": {},
   "source": [
    "### Libraries"
   ]
  },
  {
   "cell_type": "code",
   "execution_count": 1,
   "metadata": {},
   "outputs": [],
   "source": [
    "import os\n",
    "import glob\n",
    "import pandas as pd\n",
    "import numpy as np\n",
    "import statistics\n",
    "import spacy\n",
    "import scattertext\n",
    "import en_core_web_sm\n",
    "from nltk.corpus import stopwords"
   ]
  },
  {
   "cell_type": "markdown",
   "metadata": {},
   "source": [
    "### Loading the Keywords data"
   ]
  },
  {
   "cell_type": "code",
   "execution_count": 2,
   "metadata": {},
   "outputs": [],
   "source": [
    "# in case multiple Keywords files:\n",
    "\n",
    "#files_to_combine = [i for i in glob.glob('*.{}'.format('csv'))]\n",
    "#data = pd.concat((pd.read_csv(file, header = 0) for file in files_to_combine))\n",
    "#data.to_csv(\"combined_Keyword_results.csv\", index=False, encoding='utf-8-sig')"
   ]
  },
  {
   "cell_type": "code",
   "execution_count": 3,
   "metadata": {},
   "outputs": [
    {
     "name": "stderr",
     "output_type": "stream",
     "text": [
      "C:\\Users\\VIGS2\\Anaconda3\\envs\\Andromeda\\lib\\site-packages\\IPython\\core\\interactiveshell.py:3051: DtypeWarning: Columns (12,14) have mixed types.Specify dtype option on import or set low_memory=False.\n",
      "  interactivity=interactivity, compiler=compiler, result=result)\n"
     ]
    }
   ],
   "source": [
    "data=pd.read_csv('combined_Keyword_results.csv')"
   ]
  },
  {
   "cell_type": "code",
   "execution_count": 4,
   "metadata": {},
   "outputs": [
    {
     "data": {
      "text/html": [
       "<div>\n",
       "<style scoped>\n",
       "    .dataframe tbody tr th:only-of-type {\n",
       "        vertical-align: middle;\n",
       "    }\n",
       "\n",
       "    .dataframe tbody tr th {\n",
       "        vertical-align: top;\n",
       "    }\n",
       "\n",
       "    .dataframe thead th {\n",
       "        text-align: right;\n",
       "    }\n",
       "</style>\n",
       "<table border=\"1\" class=\"dataframe\">\n",
       "  <thead>\n",
       "    <tr style=\"text-align: right;\">\n",
       "      <th></th>\n",
       "      <th>Keyword</th>\n",
       "      <th>healthpalace.ca</th>\n",
       "      <th>phytopurproducts.com</th>\n",
       "      <th>rockymountainsoap.com</th>\n",
       "      <th>massageessentials.ca</th>\n",
       "      <th>well.ca</th>\n",
       "      <th>Search Volume</th>\n",
       "      <th>Keyword Difficulty</th>\n",
       "      <th>CPC</th>\n",
       "      <th>Competition</th>\n",
       "      <th>Results</th>\n",
       "      <th>healthpalace.ca (pages)</th>\n",
       "      <th>phytopurproducts.com (pages)</th>\n",
       "      <th>rockymountainsoap.com (pages)</th>\n",
       "      <th>massageessentials.ca (pages)</th>\n",
       "      <th>well.ca (pages)</th>\n",
       "      <th>Companies</th>\n",
       "    </tr>\n",
       "  </thead>\n",
       "  <tbody>\n",
       "    <tr>\n",
       "      <th>0</th>\n",
       "      <td>lung cleanse</td>\n",
       "      <td>83</td>\n",
       "      <td>0</td>\n",
       "      <td>0</td>\n",
       "      <td>0</td>\n",
       "      <td>0</td>\n",
       "      <td>5400</td>\n",
       "      <td>86.06</td>\n",
       "      <td>0.60</td>\n",
       "      <td>1.00</td>\n",
       "      <td>3000000</td>\n",
       "      <td>https://www.healthpalace.ca/lungs-respiratory-...</td>\n",
       "      <td>NaN</td>\n",
       "      <td>NaN</td>\n",
       "      <td>NaN</td>\n",
       "      <td>NaN</td>\n",
       "      <td>healthpalace.ca</td>\n",
       "    </tr>\n",
       "    <tr>\n",
       "      <th>1</th>\n",
       "      <td>nutiva coconut oil</td>\n",
       "      <td>84</td>\n",
       "      <td>0</td>\n",
       "      <td>0</td>\n",
       "      <td>0</td>\n",
       "      <td>0</td>\n",
       "      <td>3600</td>\n",
       "      <td>85.72</td>\n",
       "      <td>0.53</td>\n",
       "      <td>1.00</td>\n",
       "      <td>597000</td>\n",
       "      <td>https://www.healthpalace.ca/nutiva-organic-ref...</td>\n",
       "      <td>NaN</td>\n",
       "      <td>NaN</td>\n",
       "      <td>NaN</td>\n",
       "      <td>NaN</td>\n",
       "      <td>healthpalace.ca</td>\n",
       "    </tr>\n",
       "    <tr>\n",
       "      <th>2</th>\n",
       "      <td>douglas labs</td>\n",
       "      <td>73</td>\n",
       "      <td>0</td>\n",
       "      <td>0</td>\n",
       "      <td>0</td>\n",
       "      <td>0</td>\n",
       "      <td>2900</td>\n",
       "      <td>64.47</td>\n",
       "      <td>1.28</td>\n",
       "      <td>0.53</td>\n",
       "      <td>22400000</td>\n",
       "      <td>https://www.healthpalace.ca/douglas-laboratori...</td>\n",
       "      <td>NaN</td>\n",
       "      <td>NaN</td>\n",
       "      <td>NaN</td>\n",
       "      <td>NaN</td>\n",
       "      <td>healthpalace.ca</td>\n",
       "    </tr>\n",
       "    <tr>\n",
       "      <th>3</th>\n",
       "      <td>how to lower blood sugar naturally</td>\n",
       "      <td>75</td>\n",
       "      <td>0</td>\n",
       "      <td>0</td>\n",
       "      <td>0</td>\n",
       "      <td>0</td>\n",
       "      <td>2400</td>\n",
       "      <td>79.87</td>\n",
       "      <td>1.09</td>\n",
       "      <td>1.00</td>\n",
       "      <td>50400000</td>\n",
       "      <td>https://www.healthpalace.ca/blog/15-natural-wa...</td>\n",
       "      <td>NaN</td>\n",
       "      <td>NaN</td>\n",
       "      <td>NaN</td>\n",
       "      <td>NaN</td>\n",
       "      <td>healthpalace.ca</td>\n",
       "    </tr>\n",
       "    <tr>\n",
       "      <th>4</th>\n",
       "      <td>zembrin</td>\n",
       "      <td>95</td>\n",
       "      <td>0</td>\n",
       "      <td>0</td>\n",
       "      <td>0</td>\n",
       "      <td>0</td>\n",
       "      <td>2400</td>\n",
       "      <td>72.64</td>\n",
       "      <td>0.21</td>\n",
       "      <td>1.00</td>\n",
       "      <td>40500</td>\n",
       "      <td>https://www.healthpalace.ca/innovite-eliteneur...</td>\n",
       "      <td>NaN</td>\n",
       "      <td>NaN</td>\n",
       "      <td>NaN</td>\n",
       "      <td>NaN</td>\n",
       "      <td>healthpalace.ca</td>\n",
       "    </tr>\n",
       "  </tbody>\n",
       "</table>\n",
       "</div>"
      ],
      "text/plain": [
       "                              Keyword  healthpalace.ca  phytopurproducts.com  \\\n",
       "0                        lung cleanse               83                     0   \n",
       "1                  nutiva coconut oil               84                     0   \n",
       "2                        douglas labs               73                     0   \n",
       "3  how to lower blood sugar naturally               75                     0   \n",
       "4                             zembrin               95                     0   \n",
       "\n",
       "   rockymountainsoap.com  massageessentials.ca  well.ca  Search Volume  \\\n",
       "0                      0                     0        0           5400   \n",
       "1                      0                     0        0           3600   \n",
       "2                      0                     0        0           2900   \n",
       "3                      0                     0        0           2400   \n",
       "4                      0                     0        0           2400   \n",
       "\n",
       "   Keyword Difficulty   CPC  Competition   Results  \\\n",
       "0               86.06  0.60         1.00   3000000   \n",
       "1               85.72  0.53         1.00    597000   \n",
       "2               64.47  1.28         0.53  22400000   \n",
       "3               79.87  1.09         1.00  50400000   \n",
       "4               72.64  0.21         1.00     40500   \n",
       "\n",
       "                             healthpalace.ca (pages)  \\\n",
       "0  https://www.healthpalace.ca/lungs-respiratory-...   \n",
       "1  https://www.healthpalace.ca/nutiva-organic-ref...   \n",
       "2  https://www.healthpalace.ca/douglas-laboratori...   \n",
       "3  https://www.healthpalace.ca/blog/15-natural-wa...   \n",
       "4  https://www.healthpalace.ca/innovite-eliteneur...   \n",
       "\n",
       "  phytopurproducts.com (pages) rockymountainsoap.com (pages)  \\\n",
       "0                          NaN                           NaN   \n",
       "1                          NaN                           NaN   \n",
       "2                          NaN                           NaN   \n",
       "3                          NaN                           NaN   \n",
       "4                          NaN                           NaN   \n",
       "\n",
       "  massageessentials.ca (pages) well.ca (pages)        Companies  \n",
       "0                          NaN             NaN  healthpalace.ca  \n",
       "1                          NaN             NaN  healthpalace.ca  \n",
       "2                          NaN             NaN  healthpalace.ca  \n",
       "3                          NaN             NaN  healthpalace.ca  \n",
       "4                          NaN             NaN  healthpalace.ca  "
      ]
     },
     "execution_count": 4,
     "metadata": {},
     "output_type": "execute_result"
    }
   ],
   "source": [
    "# New Column to identify competitors used to to obtained current set of Keywords\n",
    "\n",
    "competition = []\n",
    "for i in range(len(data.index)):\n",
    "    k=0\n",
    "    for k in range(1,6):      # Change columns according to the col.index of competitors names\n",
    "        if data.iloc[i,k] !=0:\n",
    "            competition.append(data.columns[k])\n",
    "            break\n",
    "data['Companies']  = competition \n",
    "\n",
    "data.head()"
   ]
  },
  {
   "cell_type": "markdown",
   "metadata": {},
   "source": [
    "### Classifying Keywords based on impact (Search Volume)"
   ]
  },
  {
   "cell_type": "code",
   "execution_count": 5,
   "metadata": {},
   "outputs": [
    {
     "data": {
      "text/html": [
       "<div>\n",
       "<style scoped>\n",
       "    .dataframe tbody tr th:only-of-type {\n",
       "        vertical-align: middle;\n",
       "    }\n",
       "\n",
       "    .dataframe tbody tr th {\n",
       "        vertical-align: top;\n",
       "    }\n",
       "\n",
       "    .dataframe thead th {\n",
       "        text-align: right;\n",
       "    }\n",
       "</style>\n",
       "<table border=\"1\" class=\"dataframe\">\n",
       "  <thead>\n",
       "    <tr style=\"text-align: right;\">\n",
       "      <th></th>\n",
       "      <th>Keyword</th>\n",
       "      <th>high_vol</th>\n",
       "      <th>Companies</th>\n",
       "    </tr>\n",
       "  </thead>\n",
       "  <tbody>\n",
       "    <tr>\n",
       "      <th>0</th>\n",
       "      <td>lung cleanse</td>\n",
       "      <td>High</td>\n",
       "      <td>healthpalace.ca</td>\n",
       "    </tr>\n",
       "    <tr>\n",
       "      <th>1</th>\n",
       "      <td>nutiva coconut oil</td>\n",
       "      <td>High</td>\n",
       "      <td>healthpalace.ca</td>\n",
       "    </tr>\n",
       "    <tr>\n",
       "      <th>2</th>\n",
       "      <td>douglas labs</td>\n",
       "      <td>High</td>\n",
       "      <td>healthpalace.ca</td>\n",
       "    </tr>\n",
       "    <tr>\n",
       "      <th>3</th>\n",
       "      <td>how to lower blood sugar naturally</td>\n",
       "      <td>High</td>\n",
       "      <td>healthpalace.ca</td>\n",
       "    </tr>\n",
       "    <tr>\n",
       "      <th>4</th>\n",
       "      <td>zembrin</td>\n",
       "      <td>High</td>\n",
       "      <td>healthpalace.ca</td>\n",
       "    </tr>\n",
       "  </tbody>\n",
       "</table>\n",
       "</div>"
      ],
      "text/plain": [
       "                              Keyword high_vol        Companies\n",
       "0                        lung cleanse     High  healthpalace.ca\n",
       "1                  nutiva coconut oil     High  healthpalace.ca\n",
       "2                        douglas labs     High  healthpalace.ca\n",
       "3  how to lower blood sugar naturally     High  healthpalace.ca\n",
       "4                             zembrin     High  healthpalace.ca"
      ]
     },
     "execution_count": 5,
     "metadata": {},
     "output_type": "execute_result"
    }
   ],
   "source": [
    "# Identifying Threshold for Keywords that are highly searched vs Keywords that are less searched\n",
    "# Taking the overall avearge searches as threshold\n",
    "mean_vol=statistics.mean(data['Search Volume'])\n",
    "mean_vol\n",
    "\n",
    "# Classifying Keywords into High and Low based on search volume threshold identified above\n",
    "data['high_vol'] = data['Search Volume'].apply(lambda x: 'High' if x > mean_vol else 'Low')\n",
    "df= data[['Keyword','high_vol','Companies']]\n",
    "df['Keyword'] = df['Keyword'].astype(str)\n",
    "df['Companies'] = df['Companies'].astype(str)\n",
    "df.head()\n"
   ]
  },
  {
   "cell_type": "markdown",
   "metadata": {},
   "source": [
    "### Text Processing and building corpus"
   ]
  },
  {
   "cell_type": "code",
   "execution_count": 6,
   "metadata": {},
   "outputs": [],
   "source": [
    "#Stop\n",
    "stopWords = set(stopwords.words('english'))\n",
    "nlp = en_core_web_sm.load() \n",
    "nlp.Defaults.stop_words |= stopWords"
   ]
  },
  {
   "cell_type": "code",
   "execution_count": 7,
   "metadata": {},
   "outputs": [],
   "source": [
    "# Buidling function using Scatertext to evaluate term frequency and calulate f-score for each classification\n",
    "\n",
    "def term_freq(df):\n",
    "    corpus = (scattertext.CorpusFromPandas(df,\n",
    "                                           category_col='high_vol', \n",
    "                                           text_col='Keyword',\n",
    "                                           nlp=nlp)\n",
    "              .build()\n",
    "              .remove_terms(nlp.Defaults.stop_words, ignore_absences=True)\n",
    "              )\n",
    "    df = corpus.get_term_freq_df()\n",
    "    df['High_Rating_Score'] = corpus.get_scaled_f_scores('High')\n",
    "    df['Low_Rating_Score'] = corpus.get_scaled_f_scores('Low')\n",
    "    df['High_Rating_Score'] = round(df['High_Rating_Score'], 2)\n",
    "    df['Low_Rating_Score'] = round(df['Low_Rating_Score'], 2)\n",
    "    \n",
    "    df_high = df.sort_values(by='High freq', \n",
    "                             ascending = False).reset_index()\n",
    "    df_low = df.sort_values(by='Low freq', \n",
    "                            ascending=False).reset_index()\n",
    "    return df_high, df_low,corpus\n",
    "\n"
   ]
  },
  {
   "cell_type": "code",
   "execution_count": 8,
   "metadata": {},
   "outputs": [
    {
     "data": {
      "text/html": [
       "<div>\n",
       "<style scoped>\n",
       "    .dataframe tbody tr th:only-of-type {\n",
       "        vertical-align: middle;\n",
       "    }\n",
       "\n",
       "    .dataframe tbody tr th {\n",
       "        vertical-align: top;\n",
       "    }\n",
       "\n",
       "    .dataframe thead th {\n",
       "        text-align: right;\n",
       "    }\n",
       "</style>\n",
       "<table border=\"1\" class=\"dataframe\">\n",
       "  <thead>\n",
       "    <tr style=\"text-align: right;\">\n",
       "      <th></th>\n",
       "      <th>term</th>\n",
       "      <th>High freq</th>\n",
       "      <th>Low freq</th>\n",
       "      <th>High_Rating_Score</th>\n",
       "      <th>Low_Rating_Score</th>\n",
       "    </tr>\n",
       "  </thead>\n",
       "  <tbody>\n",
       "    <tr>\n",
       "      <th>0</th>\n",
       "      <td>ordinary</td>\n",
       "      <td>968</td>\n",
       "      <td>1132</td>\n",
       "      <td>0.98</td>\n",
       "      <td>0.02</td>\n",
       "    </tr>\n",
       "    <tr>\n",
       "      <th>1</th>\n",
       "      <td>the ordinary</td>\n",
       "      <td>808</td>\n",
       "      <td>856</td>\n",
       "      <td>0.98</td>\n",
       "      <td>0.02</td>\n",
       "    </tr>\n",
       "    <tr>\n",
       "      <th>2</th>\n",
       "      <td>soap</td>\n",
       "      <td>756</td>\n",
       "      <td>6128</td>\n",
       "      <td>0.83</td>\n",
       "      <td>0.17</td>\n",
       "    </tr>\n",
       "    <tr>\n",
       "      <th>3</th>\n",
       "      <td>shampoo</td>\n",
       "      <td>656</td>\n",
       "      <td>2472</td>\n",
       "      <td>0.90</td>\n",
       "      <td>0.10</td>\n",
       "    </tr>\n",
       "    <tr>\n",
       "      <th>4</th>\n",
       "      <td>cream</td>\n",
       "      <td>572</td>\n",
       "      <td>2128</td>\n",
       "      <td>0.90</td>\n",
       "      <td>0.10</td>\n",
       "    </tr>\n",
       "    <tr>\n",
       "      <th>5</th>\n",
       "      <td>oil</td>\n",
       "      <td>544</td>\n",
       "      <td>3772</td>\n",
       "      <td>0.84</td>\n",
       "      <td>0.16</td>\n",
       "    </tr>\n",
       "    <tr>\n",
       "      <th>6</th>\n",
       "      <td>hair</td>\n",
       "      <td>496</td>\n",
       "      <td>1828</td>\n",
       "      <td>0.90</td>\n",
       "      <td>0.10</td>\n",
       "    </tr>\n",
       "    <tr>\n",
       "      <th>7</th>\n",
       "      <td>natural</td>\n",
       "      <td>472</td>\n",
       "      <td>3140</td>\n",
       "      <td>0.85</td>\n",
       "      <td>0.15</td>\n",
       "    </tr>\n",
       "    <tr>\n",
       "      <th>8</th>\n",
       "      <td>reviews</td>\n",
       "      <td>468</td>\n",
       "      <td>2340</td>\n",
       "      <td>0.87</td>\n",
       "      <td>0.13</td>\n",
       "    </tr>\n",
       "    <tr>\n",
       "      <th>9</th>\n",
       "      <td>baby</td>\n",
       "      <td>464</td>\n",
       "      <td>1704</td>\n",
       "      <td>0.90</td>\n",
       "      <td>0.10</td>\n",
       "    </tr>\n",
       "  </tbody>\n",
       "</table>\n",
       "</div>"
      ],
      "text/plain": [
       "           term  High freq  Low freq  High_Rating_Score  Low_Rating_Score\n",
       "0      ordinary        968      1132               0.98              0.02\n",
       "1  the ordinary        808       856               0.98              0.02\n",
       "2          soap        756      6128               0.83              0.17\n",
       "3       shampoo        656      2472               0.90              0.10\n",
       "4         cream        572      2128               0.90              0.10\n",
       "5           oil        544      3772               0.84              0.16\n",
       "6          hair        496      1828               0.90              0.10\n",
       "7       natural        472      3140               0.85              0.15\n",
       "8       reviews        468      2340               0.87              0.13\n",
       "9          baby        464      1704               0.90              0.10"
      ]
     },
     "execution_count": 8,
     "metadata": {},
     "output_type": "execute_result"
    }
   ],
   "source": [
    "# Using function to create corpus for text to be processsed and categorized based on f-score and freqency\n",
    "\n",
    "df_high, df_low,corpus = term_freq(df)\n",
    "df_high.head(10)"
   ]
  },
  {
   "cell_type": "markdown",
   "metadata": {},
   "source": [
    "### Visualization "
   ]
  },
  {
   "cell_type": "code",
   "execution_count": 9,
   "metadata": {},
   "outputs": [
    {
     "data": {
      "text/plain": [
       "8442629"
      ]
     },
     "execution_count": 9,
     "metadata": {},
     "output_type": "execute_result"
    }
   ],
   "source": [
    "html = scattertext.produce_scattertext_explorer(corpus,category='Low',\n",
    "                   category_name='Low Searched Keywords',\n",
    "                   not_category_name='High Searched Keywords',\n",
    "                   width_in_pixels=1000,\n",
    "                   metadata=corpus.get_df()['Companies'])\n",
    "html_file_name = \"Keywords Analysis-Plot.html\"\n",
    "open(html_file_name, 'wb').write(html.encode('utf-8'))"
   ]
  },
  {
   "cell_type": "markdown",
   "metadata": {},
   "source": [
    "Reference:\n",
    "\n",
    " - https://github.com/JasonKessler/scattertext\n",
    " - https://www.semrush.com/"
   ]
  },
  {
   "cell_type": "markdown",
   "metadata": {},
   "source": [
    "---"
   ]
  }
 ],
 "metadata": {
  "kernelspec": {
   "display_name": "Python 3",
   "language": "python",
   "name": "python3"
  },
  "language_info": {
   "codemirror_mode": {
    "name": "ipython",
    "version": 3
   },
   "file_extension": ".py",
   "mimetype": "text/x-python",
   "name": "python",
   "nbconvert_exporter": "python",
   "pygments_lexer": "ipython3",
   "version": "3.7.5"
  }
 },
 "nbformat": 4,
 "nbformat_minor": 4
}
