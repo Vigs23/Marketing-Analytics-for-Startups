{
 "cells": [
  {
   "cell_type": "markdown",
   "metadata": {},
   "source": [
    "### Sentiment Analysis"
   ]
  },
  {
   "cell_type": "code",
   "execution_count": null,
   "metadata": {},
   "outputs": [],
   "source": [
    "import nltk\n",
    "nltk.download('wordnet')\n",
    "import pandas as pd\n",
    "import re \n",
    "nltk.download('stopwords') \n",
    "from nltk.corpus import stopwords\n",
    "from nltk.stem.porter import PorterStemmer\n",
    "from sklearn.feature_extraction.text import TfidfVectorizer\n",
    "from sklearn.model_selection import train_test_split\n",
    "from sklearn.model_selection import train_test_split,cross_val_score\n",
    "from sklearn.feature_selection import RFE \n",
    "from sklearn.ensemble import RandomForestClassifier\n",
    "from sklearn import preprocessing\n",
    "from sklearn.model_selection import GridSearchCV\n",
    "import numpy as np"
   ]
  },
  {
   "cell_type": "code",
   "execution_count": 2,
   "metadata": {},
   "outputs": [],
   "source": [
    "#!pip install textblob "
   ]
  },
  {
   "cell_type": "code",
   "execution_count": 3,
   "metadata": {},
   "outputs": [],
   "source": [
    "from textblob import TextBlob"
   ]
  },
  {
   "cell_type": "code",
   "execution_count": 5,
   "metadata": {},
   "outputs": [],
   "source": [
    "\"\"\"\n",
    "cols = df.columns.tolist()\n",
    "cols = cols[-1:] + cols[:-1]\n",
    "df = df[cols]\n",
    "df = df.rename(columns = {'Filename':'Text'})\n",
    "df=df.drop_duplicates()\n",
    "Themes=df.sort_values('Text').reset_index(drop=True)\n",
    "df=df.drop(columns=df.columns[1:],axis=1)\n",
    "\"\"\""
   ]
  },
  {
   "cell_type": "code",
   "execution_count": 6,
   "metadata": {},
   "outputs": [],
   "source": [
    "\"\"\"\n",
    "df['Text']= df['Text'].astype(str) #Make sure about the correct data type\n",
    "pol = lambda x: TextBlob(x).sentiment.polarity\n",
    "df['polarity'] = df['Text'].apply(pol) # depending on the size of your data, this step may take some time.\n",
    "\"\"\""
   ]
  },
  {
   "cell_type": "code",
   "execution_count": 4,
   "metadata": {},
   "outputs": [],
   "source": [
    "df= pd.read_excel('D:\\\\Class work\\\\2nd Year\\\\4th Sem\\\\Capstone\\\\Segmentation\\\\Actual_analysis\\\\Review Analysis\\\\Combined_metrics_Reviews.xlsx')"
   ]
  },
  {
   "cell_type": "code",
   "execution_count": 5,
   "metadata": {},
   "outputs": [
    {
     "data": {
      "image/png": "[encoded data removed]",
      "text/plain": [
       "<Figure size 720x432 with 1 Axes>"
      ]
     },
     "metadata": {
      "needs_background": "light"
     },
     "output_type": "display_data"
    }
   ],
   "source": [
    "import matplotlib.pyplot as plt\n",
    "import seaborn as sns\n",
    "num_bins = 50\n",
    "plt.figure(figsize=(10,6))\n",
    "n, bins, patches = plt.hist(df.Polarity, num_bins, facecolor='blue', alpha=0.5)\n",
    "plt.xlabel('Polarity')\n",
    "plt.ylabel('Number of Reviews')\n",
    "plt.title('Histogram of Polarity Score')\n",
    "plt.show();"
   ]
  },
  {
   "cell_type": "code",
   "execution_count": null,
   "metadata": {},
   "outputs": [],
   "source": [
    "#df['Sentiment'] = df['Polarity'].apply(lambda x:1 if x>0 else (0 if x==0 else -1)  )"
   ]
  },
  {
   "cell_type": "code",
   "execution_count": null,
   "metadata": {},
   "outputs": [],
   "source": [
    "#df.head()"
   ]
  },
  {
   "cell_type": "code",
   "execution_count": null,
   "metadata": {},
   "outputs": [],
   "source": []
  },
  {
   "cell_type": "code",
   "execution_count": 6,
   "metadata": {},
   "outputs": [],
   "source": [
    "#df= pd.read_excel('D:\\\\Class work\\\\2nd Year\\\\4th Sem\\\\Capstone\\\\Segmentation\\\\Actual_analysis\\\\Combined_metrics.xlsx')\n",
    "df['Sentiment'] = df['Polarity'].apply(lambda x:1 if x>0 else (0 if x==0 else -1)  )"
   ]
  },
  {
   "cell_type": "code",
   "execution_count": 7,
   "metadata": {},
   "outputs": [],
   "source": [
    "X = df.iloc[:,12:-2]\n",
    "X.head()\n",
    "y = df.iloc[:,-1]\n",
    "#y.head()"
   ]
  },
  {
   "cell_type": "code",
   "execution_count": 8,
   "metadata": {},
   "outputs": [
    {
     "data": {
      "text/html": [
       "<div>\n",
       "<style scoped>\n",
       "    .dataframe tbody tr th:only-of-type {\n",
       "        vertical-align: middle;\n",
       "    }\n",
       "\n",
       "    .dataframe tbody tr th {\n",
       "        vertical-align: top;\n",
       "    }\n",
       "\n",
       "    .dataframe thead th {\n",
       "        text-align: right;\n",
       "    }\n",
       "</style>\n",
       "<table border=\"1\" class=\"dataframe\">\n",
       "  <thead>\n",
       "    <tr style=\"text-align: right;\">\n",
       "      <th></th>\n",
       "      <th>RC1</th>\n",
       "      <th>RC2</th>\n",
       "      <th>RC3</th>\n",
       "      <th>RC4</th>\n",
       "      <th>RC5</th>\n",
       "      <th>RC6</th>\n",
       "      <th>RC10</th>\n",
       "      <th>RC9</th>\n",
       "      <th>RC7</th>\n",
       "      <th>RC8</th>\n",
       "    </tr>\n",
       "  </thead>\n",
       "  <tbody>\n",
       "    <tr>\n",
       "      <th>0</th>\n",
       "      <td>1.224584</td>\n",
       "      <td>3.384495</td>\n",
       "      <td>11.214537</td>\n",
       "      <td>1.494544</td>\n",
       "      <td>3.449425</td>\n",
       "      <td>1.696473</td>\n",
       "      <td>-2.284880</td>\n",
       "      <td>2.651910</td>\n",
       "      <td>-0.982962</td>\n",
       "      <td>0.166945</td>\n",
       "    </tr>\n",
       "    <tr>\n",
       "      <th>1</th>\n",
       "      <td>-0.772610</td>\n",
       "      <td>-0.401240</td>\n",
       "      <td>-1.565051</td>\n",
       "      <td>-0.392241</td>\n",
       "      <td>-0.929367</td>\n",
       "      <td>-2.051842</td>\n",
       "      <td>0.133620</td>\n",
       "      <td>-0.282078</td>\n",
       "      <td>-0.108822</td>\n",
       "      <td>0.147577</td>\n",
       "    </tr>\n",
       "    <tr>\n",
       "      <th>2</th>\n",
       "      <td>1.116823</td>\n",
       "      <td>-0.327541</td>\n",
       "      <td>-1.956411</td>\n",
       "      <td>-0.345580</td>\n",
       "      <td>-1.182697</td>\n",
       "      <td>-0.147329</td>\n",
       "      <td>-0.072685</td>\n",
       "      <td>-0.169118</td>\n",
       "      <td>-0.301334</td>\n",
       "      <td>0.976135</td>\n",
       "    </tr>\n",
       "    <tr>\n",
       "      <th>3</th>\n",
       "      <td>-1.651336</td>\n",
       "      <td>17.181246</td>\n",
       "      <td>-0.592122</td>\n",
       "      <td>1.469903</td>\n",
       "      <td>-0.789921</td>\n",
       "      <td>-0.086725</td>\n",
       "      <td>-0.553850</td>\n",
       "      <td>-0.504018</td>\n",
       "      <td>-0.595375</td>\n",
       "      <td>0.771149</td>\n",
       "    </tr>\n",
       "    <tr>\n",
       "      <th>4</th>\n",
       "      <td>-1.021191</td>\n",
       "      <td>-0.648800</td>\n",
       "      <td>-0.891510</td>\n",
       "      <td>-0.582308</td>\n",
       "      <td>-0.201064</td>\n",
       "      <td>-2.004105</td>\n",
       "      <td>-0.003482</td>\n",
       "      <td>1.053650</td>\n",
       "      <td>-0.456491</td>\n",
       "      <td>-0.182417</td>\n",
       "    </tr>\n",
       "  </tbody>\n",
       "</table>\n",
       "</div>"
      ],
      "text/plain": [
       "        RC1        RC2        RC3       RC4       RC5       RC6      RC10  \\\n",
       "0  1.224584   3.384495  11.214537  1.494544  3.449425  1.696473 -2.284880   \n",
       "1 -0.772610  -0.401240  -1.565051 -0.392241 -0.929367 -2.051842  0.133620   \n",
       "2  1.116823  -0.327541  -1.956411 -0.345580 -1.182697 -0.147329 -0.072685   \n",
       "3 -1.651336  17.181246  -0.592122  1.469903 -0.789921 -0.086725 -0.553850   \n",
       "4 -1.021191  -0.648800  -0.891510 -0.582308 -0.201064 -2.004105 -0.003482   \n",
       "\n",
       "        RC9       RC7       RC8  \n",
       "0  2.651910 -0.982962  0.166945  \n",
       "1 -0.282078 -0.108822  0.147577  \n",
       "2 -0.169118 -0.301334  0.976135  \n",
       "3 -0.504018 -0.595375  0.771149  \n",
       "4  1.053650 -0.456491 -0.182417  "
      ]
     },
     "execution_count": 8,
     "metadata": {},
     "output_type": "execute_result"
    }
   ],
   "source": [
    "X.head()"
   ]
  },
  {
   "cell_type": "code",
   "execution_count": 9,
   "metadata": {},
   "outputs": [
    {
     "data": {
      "text/plain": [
       "0    1\n",
       "1    1\n",
       "2    1\n",
       "3    1\n",
       "4    1\n",
       "Name: Sentiment, dtype: int64"
      ]
     },
     "execution_count": 9,
     "metadata": {},
     "output_type": "execute_result"
    }
   ],
   "source": [
    "y.head()"
   ]
  },
  {
   "cell_type": "code",
   "execution_count": 10,
   "metadata": {},
   "outputs": [
    {
     "data": {
      "image/png": "[encoded data removed]",
      "text/plain": [
       "<Figure size 2160x1800 with 2 Axes>"
      ]
     },
     "metadata": {},
     "output_type": "display_data"
    }
   ],
   "source": [
    "sns.set(style=\"white\")\n",
    "corr = X.corr()\n",
    "mask = np.zeros_like(corr, dtype=np.bool)\n",
    "mask[np.triu_indices_from(mask)] = True\n",
    "f, ax = plt.subplots(figsize=(30, 25))\n",
    "cmap = sns.diverging_palette(220, 10, as_cmap=True)\n",
    "sns.heatmap(corr,annot=True, mask=mask, cmap=cmap, vmax=.3, center=0,\n",
    "            square=True,  cbar_kws={\"shrink\": .5});"
   ]
  },
  {
   "cell_type": "code",
   "execution_count": 11,
   "metadata": {},
   "outputs": [],
   "source": [
    "#scaler = MinMaxScaler()\n",
    "#X_scl=scaler.fit_transform(X)\n",
    "scaler = preprocessing.MinMaxScaler().fit(X)\n",
    "data_scaler = scaler.transform(X)\n",
    "\n",
    "X_scaled = pd.DataFrame(data=data_scaler,columns=list(X.columns),  index=X.index)\n",
    "#df.drop(feature_cols, axis=1, inplace=True)\n",
    "#df = pd.concat([df, df_scaled], axis=1)"
   ]
  },
  {
   "cell_type": "code",
   "execution_count": 12,
   "metadata": {},
   "outputs": [
    {
     "data": {
      "text/html": [
       "<div>\n",
       "<style scoped>\n",
       "    .dataframe tbody tr th:only-of-type {\n",
       "        vertical-align: middle;\n",
       "    }\n",
       "\n",
       "    .dataframe tbody tr th {\n",
       "        vertical-align: top;\n",
       "    }\n",
       "\n",
       "    .dataframe thead th {\n",
       "        text-align: right;\n",
       "    }\n",
       "</style>\n",
       "<table border=\"1\" class=\"dataframe\">\n",
       "  <thead>\n",
       "    <tr style=\"text-align: right;\">\n",
       "      <th></th>\n",
       "      <th>RC1</th>\n",
       "      <th>RC2</th>\n",
       "      <th>RC3</th>\n",
       "      <th>RC4</th>\n",
       "      <th>RC5</th>\n",
       "      <th>RC6</th>\n",
       "      <th>RC10</th>\n",
       "      <th>RC9</th>\n",
       "      <th>RC7</th>\n",
       "      <th>RC8</th>\n",
       "    </tr>\n",
       "  </thead>\n",
       "  <tbody>\n",
       "    <tr>\n",
       "      <th>0</th>\n",
       "      <td>0.153477</td>\n",
       "      <td>0.270510</td>\n",
       "      <td>1.000000</td>\n",
       "      <td>0.196670</td>\n",
       "      <td>0.417281</td>\n",
       "      <td>0.737716</td>\n",
       "      <td>0.000000</td>\n",
       "      <td>0.513608</td>\n",
       "      <td>0.321486</td>\n",
       "      <td>0.605495</td>\n",
       "    </tr>\n",
       "    <tr>\n",
       "      <th>1</th>\n",
       "      <td>0.053969</td>\n",
       "      <td>0.070343</td>\n",
       "      <td>0.091159</td>\n",
       "      <td>0.058713</td>\n",
       "      <td>0.047135</td>\n",
       "      <td>0.300079</td>\n",
       "      <td>0.218614</td>\n",
       "      <td>0.202480</td>\n",
       "      <td>0.422663</td>\n",
       "      <td>0.602745</td>\n",
       "    </tr>\n",
       "    <tr>\n",
       "      <th>2</th>\n",
       "      <td>0.148108</td>\n",
       "      <td>0.074240</td>\n",
       "      <td>0.063327</td>\n",
       "      <td>0.062125</td>\n",
       "      <td>0.025721</td>\n",
       "      <td>0.522442</td>\n",
       "      <td>0.199966</td>\n",
       "      <td>0.214458</td>\n",
       "      <td>0.400380</td>\n",
       "      <td>0.720389</td>\n",
       "    </tr>\n",
       "    <tr>\n",
       "      <th>3</th>\n",
       "      <td>0.010187</td>\n",
       "      <td>1.000000</td>\n",
       "      <td>0.160350</td>\n",
       "      <td>0.194869</td>\n",
       "      <td>0.058923</td>\n",
       "      <td>0.529518</td>\n",
       "      <td>0.156472</td>\n",
       "      <td>0.178945</td>\n",
       "      <td>0.366347</td>\n",
       "      <td>0.691284</td>\n",
       "    </tr>\n",
       "    <tr>\n",
       "      <th>4</th>\n",
       "      <td>0.041584</td>\n",
       "      <td>0.057254</td>\n",
       "      <td>0.139059</td>\n",
       "      <td>0.044816</td>\n",
       "      <td>0.108700</td>\n",
       "      <td>0.305652</td>\n",
       "      <td>0.206221</td>\n",
       "      <td>0.344124</td>\n",
       "      <td>0.382422</td>\n",
       "      <td>0.555891</td>\n",
       "    </tr>\n",
       "  </tbody>\n",
       "</table>\n",
       "</div>"
      ],
      "text/plain": [
       "        RC1       RC2       RC3       RC4       RC5       RC6      RC10  \\\n",
       "0  0.153477  0.270510  1.000000  0.196670  0.417281  0.737716  0.000000   \n",
       "1  0.053969  0.070343  0.091159  0.058713  0.047135  0.300079  0.218614   \n",
       "2  0.148108  0.074240  0.063327  0.062125  0.025721  0.522442  0.199966   \n",
       "3  0.010187  1.000000  0.160350  0.194869  0.058923  0.529518  0.156472   \n",
       "4  0.041584  0.057254  0.139059  0.044816  0.108700  0.305652  0.206221   \n",
       "\n",
       "        RC9       RC7       RC8  \n",
       "0  0.513608  0.321486  0.605495  \n",
       "1  0.202480  0.422663  0.602745  \n",
       "2  0.214458  0.400380  0.720389  \n",
       "3  0.178945  0.366347  0.691284  \n",
       "4  0.344124  0.382422  0.555891  "
      ]
     },
     "execution_count": 12,
     "metadata": {},
     "output_type": "execute_result"
    }
   ],
   "source": [
    "X_scaled.head()"
   ]
  },
  {
   "cell_type": "code",
   "execution_count": 13,
   "metadata": {},
   "outputs": [],
   "source": []
  },
  {
   "cell_type": "code",
   "execution_count": 14,
   "metadata": {},
   "outputs": [],
   "source": [
    "X_train, X_test, y_train, y_test = train_test_split(X_scaled, y, test_size = 0.20, random_state = 24)"
   ]
  },
  {
   "cell_type": "code",
   "execution_count": 15,
   "metadata": {},
   "outputs": [
    {
     "data": {
      "text/plain": [
       "(22, 10)"
      ]
     },
     "execution_count": 15,
     "metadata": {},
     "output_type": "execute_result"
    }
   ],
   "source": [
    "X_train.shape"
   ]
  },
  {
   "cell_type": "code",
   "execution_count": 16,
   "metadata": {},
   "outputs": [
    {
     "name": "stderr",
     "output_type": "stream",
     "text": [
      "C:\\Users\\VIGS2\\Anaconda3\\envs\\Andromeda\\lib\\site-packages\\sklearn\\utils\\validation.py:70: FutureWarning: Pass n_features_to_select=5 as keyword args. From version 0.25 passing these as positional arguments will result in an error\n",
      "  FutureWarning)\n"
     ]
    },
    {
     "data": {
      "text/plain": [
       "Index(['RC4', 'RC6', 'RC9', 'RC7', 'RC8'], dtype='object')"
      ]
     },
     "execution_count": 16,
     "metadata": {},
     "output_type": "execute_result"
    }
   ],
   "source": [
    "classifier = RandomForestClassifier(n_estimators = 70, max_depth=50, criterion = \"gini\", min_samples_split=10,random_state=24)\n",
    "rfe = RFE(classifier, 5)\n",
    "rfe = rfe.fit(X_train, y_train)\n",
    "X_train.columns[rfe.support_]"
   ]
  },
  {
   "cell_type": "code",
   "execution_count": 17,
   "metadata": {},
   "outputs": [
    {
     "name": "stderr",
     "output_type": "stream",
     "text": [
      "C:\\Users\\VIGS2\\Anaconda3\\envs\\Andromeda\\lib\\site-packages\\sklearn\\model_selection\\_split.py:672: UserWarning: The least populated class in y has only 1 members, which is less than n_splits=10.\n",
      "  % (min_groups, self.n_splits)), UserWarning)\n"
     ]
    },
    {
     "name": "stdout",
     "output_type": "stream",
     "text": [
      "Best Accuracy: 75.00%\n",
      "Best Params: {'criterion': 'gini', 'max_depth': 50, 'n_estimators': 70}\n"
     ]
    },
    {
     "name": "stderr",
     "output_type": "stream",
     "text": [
      "C:\\Users\\VIGS2\\Anaconda3\\envs\\Andromeda\\lib\\site-packages\\sklearn\\model_selection\\_search.py:849: FutureWarning: The parameter 'iid' is deprecated in 0.22 and will be removed in 0.24.\n",
      "  \"removed in 0.24.\", FutureWarning\n"
     ]
    }
   ],
   "source": [
    "param_grid = [{'n_estimators' : [70,100,150,190],\n",
    "               'max_depth': [50,60,70,],\n",
    "               'criterion': ['gini', 'entropy']}]\n",
    "\n",
    "gs = GridSearchCV(estimator=RandomForestClassifier(min_samples_split=10,random_state=24),\n",
    "                  param_grid=param_grid,\n",
    "                  iid=False,\n",
    "                  refit=True,\n",
    "                  n_jobs=-1,\n",
    "                  cv=10)\n",
    "\n",
    "gs.fit(X_train[X_train.columns[rfe.support_]],y_train)\n",
    "\n",
    "print('Best Accuracy: %.2f%%' % (gs.best_score_*100))\n",
    "print('Best Params:', gs.best_params_)"
   ]
  },
  {
   "cell_type": "code",
   "execution_count": 18,
   "metadata": {},
   "outputs": [
    {
     "name": "stdout",
     "output_type": "stream",
     "text": [
      "Test Accuracy score: 100.00%\n"
     ]
    }
   ],
   "source": [
    "print('Test Accuracy score: %.2f%%' % (gs.best_estimator_.score(X_test[X_test.columns[rfe.support_]], y_test)*100))"
   ]
  },
  {
   "cell_type": "code",
   "execution_count": 20,
   "metadata": {},
   "outputs": [
    {
     "name": "stdout",
     "output_type": "stream",
     "text": [
      "Top 5 features are: \n",
      "RC5\n",
      "RC4\n",
      "RC3\n",
      "RC1\n",
      "RC2\n"
     ]
    },
    {
     "data": {
      "image/png": "[encoded data removed]",
      "text/plain": [
       "<Figure size 864x720 with 1 Axes>"
      ]
     },
     "metadata": {},
     "output_type": "display_data"
    }
   ],
   "source": [
    "import numpy as np\n",
    "importances = gs.best_estimator_.feature_importances_\n",
    "\n",
    "# make importance relative to the max importance\n",
    "feature_importance = 100.0 * (importances / importances.max())\n",
    "sorted_idx = np.argsort(feature_importance)\n",
    "feature_names = list(X.columns.values)\n",
    "feature_names_sort = [feature_names[indice] for indice in sorted_idx]\n",
    "pos = np.arange(sorted_idx.shape[0]) + .5\n",
    "print ('Top 5 features are: ')\n",
    "for feature in feature_names_sort[::-1][:5]:\n",
    "    print (feature)\n",
    "\n",
    "# plot the result\n",
    "plt.figure(figsize=(12, 10))\n",
    "plt.barh(pos, feature_importance[sorted_idx], align='center')\n",
    "plt.yticks(pos, feature_names_sort)\n",
    "plt.title('Relative Feature Importance', fontsize=20)\n",
    "plt.show()"
   ]
  },
  {
   "cell_type": "code",
   "execution_count": null,
   "metadata": {},
   "outputs": [],
   "source": []
  }
 ],
 "metadata": {
  "kernelspec": {
   "display_name": "Python 3",
   "language": "python",
   "name": "python3"
  },
  "language_info": {
   "codemirror_mode": {
    "name": "ipython",
    "version": 3
   },
   "file_extension": ".py",
   "mimetype": "text/x-python",
   "name": "python",
   "nbconvert_exporter": "python",
   "pygments_lexer": "ipython3",
   "version": "3.7.5"
  }
 },
 "nbformat": 4,
 "nbformat_minor": 4
}
